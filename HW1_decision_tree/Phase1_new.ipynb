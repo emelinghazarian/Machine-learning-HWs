{
 "cells": [
  {
   "cell_type": "markdown",
   "metadata": {},
   "source": [
    "# Homework: Decision Tree\n",
    "## Phase 1: Implementing the ID3 Decision Tree Algorithm\n",
    "***"
   ]
  },
  {
   "cell_type": "markdown",
   "metadata": {},
   "source": [
    "## Import Libraries"
   ]
  },
  {
   "cell_type": "code",
   "execution_count": 1,
   "metadata": {
    "execution": {
     "iopub.execute_input": "2022-10-23T17:47:19.294281Z",
     "iopub.status.busy": "2022-10-23T17:47:19.293652Z",
     "iopub.status.idle": "2022-10-23T17:47:19.297578Z",
     "shell.execute_reply": "2022-10-23T17:47:19.298190Z"
    },
    "papermill": {
     "duration": 0.017717,
     "end_time": "2022-10-23T17:47:19.298506",
     "exception": false,
     "start_time": "2022-10-23T17:47:19.280789",
     "status": "completed"
    },
    "tags": []
   },
   "outputs": [],
   "source": [
    "# complete\n",
    "import numpy as np\n",
    "import pandas as pd\n",
    "import math"
   ]
  },
  {
   "cell_type": "markdown",
   "metadata": {},
   "source": [
    "## Load Dataset (CSV file)"
   ]
  },
  {
   "cell_type": "code",
   "execution_count": 2,
   "metadata": {
    "execution": {
     "iopub.execute_input": "2022-10-23T17:47:19.320031Z",
     "iopub.status.busy": "2022-10-23T17:47:19.319427Z",
     "iopub.status.idle": "2022-10-23T17:47:19.342312Z",
     "shell.execute_reply": "2022-10-23T17:47:19.341606Z"
    },
    "papermill": {
     "duration": 0.034366,
     "end_time": "2022-10-23T17:47:19.342460",
     "exception": false,
     "start_time": "2022-10-23T17:47:19.308094",
     "status": "completed"
    },
    "tags": []
   },
   "outputs": [],
   "source": [
    "# complete\n",
    "train_data_m = pd.read_csv('PlayTennis_train.csv')\n",
    "test_data_m = pd.read_csv('PlayTennis_test.csv')"
   ]
  },
  {
   "cell_type": "code",
   "execution_count": 3,
   "metadata": {
    "execution": {
     "iopub.execute_input": "2022-10-23T17:47:19.372232Z",
     "iopub.status.busy": "2022-10-23T17:47:19.371594Z",
     "iopub.status.idle": "2022-10-23T17:47:19.390276Z",
     "shell.execute_reply": "2022-10-23T17:47:19.389733Z"
    },
    "papermill": {
     "duration": 0.038811,
     "end_time": "2022-10-23T17:47:19.390420",
     "exception": false,
     "start_time": "2022-10-23T17:47:19.351609",
     "status": "completed"
    },
    "tags": []
   },
   "outputs": [
    {
     "data": {
      "text/html": [
       "<div>\n",
       "<style scoped>\n",
       "    .dataframe tbody tr th:only-of-type {\n",
       "        vertical-align: middle;\n",
       "    }\n",
       "\n",
       "    .dataframe tbody tr th {\n",
       "        vertical-align: top;\n",
       "    }\n",
       "\n",
       "    .dataframe thead th {\n",
       "        text-align: right;\n",
       "    }\n",
       "</style>\n",
       "<table border=\"1\" class=\"dataframe\">\n",
       "  <thead>\n",
       "    <tr style=\"text-align: right;\">\n",
       "      <th></th>\n",
       "      <th>Outlook</th>\n",
       "      <th>Temperature</th>\n",
       "      <th>Humidity</th>\n",
       "      <th>Wind</th>\n",
       "      <th>Play Tennis</th>\n",
       "    </tr>\n",
       "  </thead>\n",
       "  <tbody>\n",
       "    <tr>\n",
       "      <th>0</th>\n",
       "      <td>Sunny</td>\n",
       "      <td>Hot</td>\n",
       "      <td>High</td>\n",
       "      <td>Weak</td>\n",
       "      <td>No</td>\n",
       "    </tr>\n",
       "    <tr>\n",
       "      <th>1</th>\n",
       "      <td>Sunny</td>\n",
       "      <td>Hot</td>\n",
       "      <td>High</td>\n",
       "      <td>Strong</td>\n",
       "      <td>No</td>\n",
       "    </tr>\n",
       "    <tr>\n",
       "      <th>2</th>\n",
       "      <td>Overcast</td>\n",
       "      <td>Hot</td>\n",
       "      <td>High</td>\n",
       "      <td>Weak</td>\n",
       "      <td>Yes</td>\n",
       "    </tr>\n",
       "    <tr>\n",
       "      <th>3</th>\n",
       "      <td>Rain</td>\n",
       "      <td>Mild</td>\n",
       "      <td>High</td>\n",
       "      <td>Weak</td>\n",
       "      <td>Yes</td>\n",
       "    </tr>\n",
       "    <tr>\n",
       "      <th>4</th>\n",
       "      <td>Rain</td>\n",
       "      <td>Cool</td>\n",
       "      <td>Normal</td>\n",
       "      <td>Weak</td>\n",
       "      <td>Yes</td>\n",
       "    </tr>\n",
       "  </tbody>\n",
       "</table>\n",
       "</div>"
      ],
      "text/plain": [
       "    Outlook Temperature Humidity    Wind Play Tennis\n",
       "0     Sunny         Hot     High    Weak          No\n",
       "1     Sunny         Hot     High  Strong          No\n",
       "2  Overcast         Hot     High    Weak         Yes\n",
       "3      Rain        Mild     High    Weak         Yes\n",
       "4      Rain        Cool   Normal    Weak         Yes"
      ]
     },
     "execution_count": 3,
     "metadata": {},
     "output_type": "execute_result"
    }
   ],
   "source": [
    "train_data_m.head()"
   ]
  },
  {
   "cell_type": "markdown",
   "metadata": {},
   "source": [
    "## Calculating the entropy of the whole dataset"
   ]
  },
  {
   "cell_type": "code",
   "execution_count": 4,
   "metadata": {
    "execution": {
     "iopub.execute_input": "2022-10-23T17:47:19.416708Z",
     "iopub.status.busy": "2022-10-23T17:47:19.415720Z",
     "iopub.status.idle": "2022-10-23T17:47:19.418888Z",
     "shell.execute_reply": "2022-10-23T17:47:19.418275Z"
    },
    "papermill": {
     "duration": 0.018608,
     "end_time": "2022-10-23T17:47:19.419033",
     "exception": false,
     "start_time": "2022-10-23T17:47:19.400425",
     "status": "completed"
    },
    "tags": []
   },
   "outputs": [],
   "source": [
    "def calc_total_entropy(train_data, label,class_list):\n",
    "    # complete\n",
    "    total_row = train_data.shape[0] #the total size of the dataset\n",
    "    total_entr = 0\n",
    "    \n",
    "    for c in class_list: \n",
    "        total_class_count = train_data[train_data[label] == c].shape[0] \n",
    "        total_class_entr = - (total_class_count/total_row)*np.log2(total_class_count/total_row)\n",
    "        total_entr += total_class_entr #adding the class entropy to the total entropy of the dataset\n",
    "        \n",
    "    return total_entr\n",
    "    "
   ]
  },
  {
   "cell_type": "markdown",
   "metadata": {},
   "source": [
    "## Calculating the entropy for a feature"
   ]
  },
  {
   "cell_type": "code",
   "execution_count": 5,
   "metadata": {
    "execution": {
     "iopub.execute_input": "2022-10-23T17:47:19.445583Z",
     "iopub.status.busy": "2022-10-23T17:47:19.444935Z",
     "iopub.status.idle": "2022-10-23T17:47:19.447923Z",
     "shell.execute_reply": "2022-10-23T17:47:19.447420Z"
    },
    "papermill": {
     "duration": 0.018996,
     "end_time": "2022-10-23T17:47:19.448073",
     "exception": false,
     "start_time": "2022-10-23T17:47:19.429077",
     "status": "completed"
    },
    "tags": []
   },
   "outputs": [],
   "source": [
    "def calc_entropy(feature_value_data, label, class_list):\n",
    "    # complete\n",
    "    class_count = feature_value_data.shape[0]\n",
    "    entropy = 0\n",
    "    \n",
    "    for c in class_list:\n",
    "        label_class_count = feature_value_data[feature_value_data[label] == c].shape[0] \n",
    "        entropy_class = 0\n",
    "        if label_class_count != 0:\n",
    "            probability_class = label_class_count/class_count\n",
    "            entropy_class = - probability_class * np.log2(probability_class) \n",
    "        entropy += entropy_class\n",
    "    return entropy"
   ]
  },
  {
   "cell_type": "markdown",
   "metadata": {},
   "source": [
    "## Calculating information gain for a feature"
   ]
  },
  {
   "cell_type": "code",
   "execution_count": 6,
   "metadata": {
    "execution": {
     "iopub.execute_input": "2022-10-23T17:47:19.474493Z",
     "iopub.status.busy": "2022-10-23T17:47:19.473864Z",
     "iopub.status.idle": "2022-10-23T17:47:19.476826Z",
     "shell.execute_reply": "2022-10-23T17:47:19.476192Z"
    },
    "papermill": {
     "duration": 0.018787,
     "end_time": "2022-10-23T17:47:19.476971",
     "exception": false,
     "start_time": "2022-10-23T17:47:19.458184",
     "status": "completed"
    },
    "tags": []
   },
   "outputs": [],
   "source": [
    "def calc_info_gain(feature_name, train_data, label, class_list):\n",
    "    # complete\n",
    "    feature_value_list = train_data[feature_name].unique() #unqiue values of the feature\n",
    "    total_row = train_data.shape[0]\n",
    "    feature_info = 0.0\n",
    "    \n",
    "    for feature_value in feature_value_list:\n",
    "        feature_value_data = train_data[train_data[feature_name] == feature_value] #filtering rows with that feature_value\n",
    "        feature_value_count = feature_value_data.shape[0]\n",
    "        feature_value_entropy = calc_entropy(feature_value_data, label, class_list) \n",
    "        feature_value_probability = feature_value_count/total_row\n",
    "        feature_info += feature_value_probability * feature_value_entropy #calculating information of the feature value\n",
    "        \n",
    "    return calc_total_entropy(train_data, label, class_list) - feature_info #calculating information gain by subtracting"
   ]
  },
  {
   "cell_type": "markdown",
   "metadata": {},
   "source": [
    "## Finding the most informative feature (feature with highest information gain)"
   ]
  },
  {
   "cell_type": "code",
   "execution_count": 7,
   "metadata": {
    "execution": {
     "iopub.execute_input": "2022-10-23T17:47:19.503001Z",
     "iopub.status.busy": "2022-10-23T17:47:19.502356Z",
     "iopub.status.idle": "2022-10-23T17:47:19.505392Z",
     "shell.execute_reply": "2022-10-23T17:47:19.504885Z"
    },
    "papermill": {
     "duration": 0.018374,
     "end_time": "2022-10-23T17:47:19.505532",
     "exception": false,
     "start_time": "2022-10-23T17:47:19.487158",
     "status": "completed"
    },
    "tags": []
   },
   "outputs": [],
   "source": [
    "def find_most_informative_feature(train_data, label, class_list):\n",
    "    # complete\n",
    "    feature_list = train_data.columns.drop(label) #finding the feature names in the dataset\n",
    "                                            \n",
    "    max_info_gain = -1\n",
    "    max_info_feature = None\n",
    "    \n",
    "    for feature in feature_list:  \n",
    "        feature_info_gain = calc_info_gain(feature, train_data, label, class_list)\n",
    "        if max_info_gain < feature_info_gain: #selecting feature name with highest information gain\n",
    "            max_info_gain = feature_info_gain\n",
    "            max_info_feature = feature\n",
    "            \n",
    "    return max_info_feature"
   ]
  },
  {
   "cell_type": "markdown",
   "metadata": {},
   "source": [
    "## Adding a node to the tree"
   ]
  },
  {
   "cell_type": "code",
   "execution_count": 8,
   "metadata": {
    "execution": {
     "iopub.execute_input": "2022-10-23T17:47:19.533817Z",
     "iopub.status.busy": "2022-10-23T17:47:19.533185Z",
     "iopub.status.idle": "2022-10-23T17:47:19.536646Z",
     "shell.execute_reply": "2022-10-23T17:47:19.536154Z"
    },
    "papermill": {
     "duration": 0.0209,
     "end_time": "2022-10-23T17:47:19.536839",
     "exception": false,
     "start_time": "2022-10-23T17:47:19.515939",
     "status": "completed"
    },
    "tags": []
   },
   "outputs": [],
   "source": [
    "def generate_sub_tree(feature_name, train_data, label, class_list):\n",
    "    feature_value_count_dict = train_data[feature_name].value_counts(sort=False)\n",
    "    tree = {}\n",
    "    \n",
    "    for feature_value, count in feature_value_count_dict.iteritems():\n",
    "        feature_value_data = train_data[train_data[feature_name] == feature_value]\n",
    "        \n",
    "        assigned_to_node = False\n",
    "        for c in class_list:\n",
    "            class_count = feature_value_data[feature_value_data[label] == c].shape[0]\n",
    "\n",
    "            if class_count == count:\n",
    "                tree[feature_value] = c\n",
    "                train_data = train_data[train_data[feature_name] != feature_value]\n",
    "                assigned_to_node = True\n",
    "        if not assigned_to_node:\n",
    "            tree[feature_value] = \"?\"\n",
    "            \n",
    "    return tree, train_data"
   ]
  },
  {
   "cell_type": "markdown",
   "metadata": {},
   "source": [
    "##  Performing ID3 Algorithm and generating Tree"
   ]
  },
  {
   "cell_type": "code",
   "execution_count": 9,
   "metadata": {
    "execution": {
     "iopub.execute_input": "2022-10-23T17:47:19.565466Z",
     "iopub.status.busy": "2022-10-23T17:47:19.564798Z",
     "iopub.status.idle": "2022-10-23T17:47:19.567634Z",
     "shell.execute_reply": "2022-10-23T17:47:19.567009Z"
    },
    "papermill": {
     "duration": 0.020669,
     "end_time": "2022-10-23T17:47:19.567823",
     "exception": false,
     "start_time": "2022-10-23T17:47:19.547154",
     "status": "completed"
    },
    "tags": []
   },
   "outputs": [],
   "source": [
    "def make_tree(root, prev_feature_value, train_data, label, class_list):\n",
    "    # complete\n",
    "    if train_data.shape[0] != 0: #if dataset becomes empty after updating\n",
    "        max_info_feature = find_most_informative_feature(train_data, label, class_list) #most informative feature\n",
    "        tree, train_data = generate_sub_tree(max_info_feature, train_data, label, class_list) \n",
    "        next_root = None\n",
    "        \n",
    "        if prev_feature_value != None: #add to intermediate node of the tree\n",
    "            root[prev_feature_value] = dict()\n",
    "            root[prev_feature_value][max_info_feature] = tree\n",
    "            next_root = root[prev_feature_value][max_info_feature]\n",
    "        else: #add to root of the tree\n",
    "            root[max_info_feature] = tree\n",
    "            next_root = root[max_info_feature]\n",
    "        \n",
    "        for node, branch in list(next_root.items()): #iterating the tree node\n",
    "            if branch == \"?\": #if it is expandable\n",
    "                feature_value_data = train_data[train_data[max_info_feature] == node] #using the updated dataset\n",
    "                make_tree(next_root, node, feature_value_data, label, class_list) #recursive call with updated dataset"
   ]
  },
  {
   "cell_type": "markdown",
   "metadata": {},
   "source": [
    "## Finding unique classes of the label and Starting the algorithm"
   ]
  },
  {
   "cell_type": "code",
   "execution_count": 10,
   "metadata": {
    "execution": {
     "iopub.execute_input": "2022-10-23T17:47:19.595497Z",
     "iopub.status.busy": "2022-10-23T17:47:19.594863Z",
     "iopub.status.idle": "2022-10-23T17:47:19.597806Z",
     "shell.execute_reply": "2022-10-23T17:47:19.597274Z"
    },
    "papermill": {
     "duration": 0.019467,
     "end_time": "2022-10-23T17:47:19.597973",
     "exception": false,
     "start_time": "2022-10-23T17:47:19.578506",
     "status": "completed"
    },
    "tags": []
   },
   "outputs": [],
   "source": [
    "def id3(train_data_m, label):\n",
    "    train_data = train_data_m.copy()\n",
    "    tree = {}\n",
    "    class_list = train_data[label].unique()\n",
    "    make_tree(tree, None, train_data, label, class_list)\n",
    "    \n",
    "    return tree"
   ]
  },
  {
   "cell_type": "markdown",
   "metadata": {},
   "source": [
    "## Predicting from the tree"
   ]
  },
  {
   "cell_type": "code",
   "execution_count": 11,
   "metadata": {
    "execution": {
     "iopub.execute_input": "2022-10-23T17:47:19.624911Z",
     "iopub.status.busy": "2022-10-23T17:47:19.624266Z",
     "iopub.status.idle": "2022-10-23T17:47:19.627375Z",
     "shell.execute_reply": "2022-10-23T17:47:19.626902Z"
    },
    "papermill": {
     "duration": 0.018973,
     "end_time": "2022-10-23T17:47:19.627528",
     "exception": false,
     "start_time": "2022-10-23T17:47:19.608555",
     "status": "completed"
    },
    "tags": []
   },
   "outputs": [],
   "source": [
    "def predict(tree, instance):\n",
    "    if not isinstance(tree, dict):\n",
    "        return tree\n",
    "    else:\n",
    "        root_node = next(iter(tree))\n",
    "        feature_value = instance[root_node]\n",
    "        if feature_value in tree[root_node]:\n",
    "            return predict(tree[root_node][feature_value], instance)\n",
    "        else:\n",
    "            return None"
   ]
  },
  {
   "cell_type": "markdown",
   "metadata": {},
   "source": [
    "## Evaluating test dataset"
   ]
  },
  {
   "cell_type": "code",
   "execution_count": 12,
   "metadata": {
    "execution": {
     "iopub.execute_input": "2022-10-23T17:47:19.655112Z",
     "iopub.status.busy": "2022-10-23T17:47:19.654473Z",
     "iopub.status.idle": "2022-10-23T17:47:19.657213Z",
     "shell.execute_reply": "2022-10-23T17:47:19.656603Z"
    },
    "papermill": {
     "duration": 0.018989,
     "end_time": "2022-10-23T17:47:19.657351",
     "exception": false,
     "start_time": "2022-10-23T17:47:19.638362",
     "status": "completed"
    },
    "tags": []
   },
   "outputs": [],
   "source": [
    "def evaluate(tree, test_data_m, label):\n",
    "    correct_preditct = 0\n",
    "    wrong_preditct = 0\n",
    "    for index, row in test_data_m.iterrows():\n",
    "        result = predict(tree, test_data_m.iloc[index])\n",
    "        if result == test_data_m[label].iloc[index]:\n",
    "            correct_preditct += 1\n",
    "        else:\n",
    "            wrong_preditct += 1\n",
    "    accuracy = correct_preditct / (correct_preditct + wrong_preditct)\n",
    "    return accuracy"
   ]
  },
  {
   "cell_type": "code",
   "execution_count": 13,
   "metadata": {
    "execution": {
     "iopub.execute_input": "2022-10-23T17:47:19.685926Z",
     "iopub.status.busy": "2022-10-23T17:47:19.685291Z",
     "iopub.status.idle": "2022-10-23T17:47:19.748164Z",
     "shell.execute_reply": "2022-10-23T17:47:19.748642Z"
    },
    "papermill": {
     "duration": 0.080082,
     "end_time": "2022-10-23T17:47:19.748865",
     "exception": false,
     "start_time": "2022-10-23T17:47:19.668783",
     "status": "completed"
    },
    "tags": []
   },
   "outputs": [
    {
     "name": "stdout",
     "output_type": "stream",
     "text": [
      "{'Outlook': {'Sunny': {'Humidity': {'High': 'No', 'Normal': 'Yes'}}, 'Overcast': 'Yes', 'Rain': {'Wind': {'Weak': 'Yes', 'Strong': 'No'}}}}\n"
     ]
    }
   ],
   "source": [
    "tree = id3(train_data_m, 'Play Tennis')\n",
    "print(tree)"
   ]
  },
  {
   "cell_type": "code",
   "execution_count": 14,
   "metadata": {
    "execution": {
     "iopub.execute_input": "2022-10-23T17:47:19.779792Z",
     "iopub.status.busy": "2022-10-23T17:47:19.779122Z",
     "iopub.status.idle": "2022-10-23T17:47:19.782450Z",
     "shell.execute_reply": "2022-10-23T17:47:19.781825Z"
    },
    "papermill": {
     "duration": 0.021038,
     "end_time": "2022-10-23T17:47:19.782593",
     "exception": false,
     "start_time": "2022-10-23T17:47:19.761555",
     "status": "completed"
    },
    "tags": []
   },
   "outputs": [
    {
     "name": "stdout",
     "output_type": "stream",
     "text": [
      "accuracy: 1.0\n"
     ]
    }
   ],
   "source": [
    "accuracy = evaluate(tree, test_data_m, 'Play Tennis')\n",
    "print(\"accuracy:\", accuracy)"
   ]
  },
  {
   "cell_type": "code",
   "execution_count": null,
   "metadata": {},
   "outputs": [],
   "source": []
  }
 ],
 "metadata": {
  "kernelspec": {
   "display_name": "Python 3 (ipykernel)",
   "language": "python",
   "name": "python3"
  },
  "language_info": {
   "codemirror_mode": {
    "name": "ipython",
    "version": 3
   },
   "file_extension": ".py",
   "mimetype": "text/x-python",
   "name": "python",
   "nbconvert_exporter": "python",
   "pygments_lexer": "ipython3",
   "version": "3.9.13"
  },
  "papermill": {
   "default_parameters": {},
   "duration": 6.631128,
   "end_time": "2022-10-23T17:47:20.428183",
   "environment_variables": {},
   "exception": null,
   "input_path": "__notebook__.ipynb",
   "output_path": "__notebook__.ipynb",
   "parameters": {},
   "start_time": "2022-10-23T17:47:13.797055",
   "version": "2.2.2"
  }
 },
 "nbformat": 4,
 "nbformat_minor": 4
}
